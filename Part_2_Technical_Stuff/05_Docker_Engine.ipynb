{
 "cells": [
  {
   "cell_type": "markdown",
   "metadata": {
    "pycharm": {
     "name": "#%% md\n"
    }
   },
   "source": [
    "# The Docker Engine\n",
    "You can use Docker without understanding any of the things in this chapter.\n",
    "However,you need to understand what's going under the hood to be a real Docker master\n",
    "This chapter is theory based, with no hands on exercies"
   ]
  },
  {
   "cell_type": "markdown",
   "metadata": {
    "pycharm": {
     "name": "#%% md\n"
    }
   },
   "source": [
    "As this chapapter is part of the technical section of the book, we’re going to employ the three-tiered approach\n",
    "where we split the chapter into three sections:\n",
    "2. TLDR\n",
    "3. Deep Dive\n",
    "4. Commands"
   ]
  },
  {
   "cell_type": "markdown",
   "metadata": {
    "pycharm": {
     "name": "#%% md\n"
    }
   },
   "source": [
    "## The TLDR\n",
    "The Docker Engine is the core software that runs and manages containers -> Simply: Docker\n",
    "It is modular in design and built from many small specialised tools to create, run containers - APIs, execution driver, runtimes, shims, etc."
   ]
  },
  {
   "cell_type": "code",
   "execution_count": 3,
   "metadata": {
    "pycharm": {
     "name": "#%%\n"
    }
   },
   "outputs": [
    {
     "ename": "SyntaxError",
     "evalue": "invalid syntax (707667415.py, line 1)",
     "output_type": "error",
     "traceback": [
      "\u001b[1;36m  Input \u001b[1;32mIn [3]\u001b[1;36m\u001b[0m\n\u001b[1;33m    Where possiple, these are based on open standards such as those maintain by Open Container Initiative - OCI\u001b[0m\n\u001b[1;37m          ^\u001b[0m\n\u001b[1;31mSyntaxError\u001b[0m\u001b[1;31m:\u001b[0m invalid syntax\n"
     ]
    }
   ],
   "source": [
    "Where possiple, these are based on open standards such as those maintain by Open Container Initiative - OCI\n",
    "At the time of writing, the major components that make up the Docker Engine are:\n",
    "1. Docker Deamon\n",
    "2. containerd\n",
    "3. runc\n",
    "4. Plugins: networking, storage, etc.\n",
    "\n",
    "\n",
    "from 1,2,3,4 they create and run containers\n",
    "\n",
    "<img src=\"figure51.png\" width=1920 height=1080 />\n",
    "\n",
    "$$ Figure\\ 5.1\\ High\\ level\\ view $$"
   ]
  },
  {
   "cell_type": "markdown",
   "metadata": {
    "pycharm": {
     "name": "#%% md\n"
    }
   },
   "source": [
    "runc and containerd are lower-case is intentional, not mistake -> they will not start with capital letter "
   ]
  },
  {
   "cell_type": "markdown",
   "metadata": {
    "pycharm": {
     "name": "#%% md\n"
    }
   },
   "source": [
    "# The Deep Dive\n",
    "When Docker first released, it had two major components:\n",
    "1. The Docker deamon - the deamon\n",
    "2. LXC\n"
   ]
  },
  {
   "cell_type": "markdown",
   "metadata": {
    "pycharm": {
     "name": "#%% md\n"
    }
   },
   "source": [
    "###### The deamon\n",
    "all of the code for:\n",
    "1. Docker Client\n",
    "2. Docker API\n",
    "3. Container runtime\n",
    "4. Image Builds\n",
    "5. Much more\n",
    "###### LXC\n",
    "Provide daemon with access to the fundamental building-blocks of containers that existed in the Linux kernel.\n",
    "Likes: namespace and control groups - cgroups"
   ]
  },
  {
   "attachments": {},
   "cell_type": "markdown",
   "metadata": {
    "pycharm": {
     "name": "#%% md\n"
    }
   },
   "source": [
    "<img src=\"figure52.png\" width=642 height=792 />\n",
    "\n",
    "$$ Figure\\ 5.2\\ Original\\ Docker\\ Architecture $$"
   ]
  },
  {
   "cell_type": "markdown",
   "metadata": {
    "pycharm": {
     "name": "#%% md\n"
    }
   },
   "source": [
    "#### Getting rid of LXC\n",
    "The reliance of LXC was an issue from the start\n",
    "1. LXC is Linux-specific. This was a problem for a project that had aspirations of being multi-platform.\n",
    "2. being reliant on an external tool for something so core to the project was a huge risk that could hinder development\n",
    "\n",
    "As a result, Docker. Inc. developed their own tool: libcontainer -> replacement for LXC\n",
    "###### lincontainer was to be a platform-agnostic tool that provided Docker with access to the fundamental container building-blocks that exist in the host kernel\n",
    "Lincontainer replaced LXC as default execution driver in Docker 0.9"
   ]
  },
  {
   "attachments": {},
   "cell_type": "markdown",
   "metadata": {
    "pycharm": {
     "name": "#%% md\n"
    }
   },
   "source": [
    "####  Getting rid of monolithic Docker Deamon\n",
    "Problems:\n",
    "1. It's hard to innovate on\n",
    "2. It got slower\n",
    "3. It wasn't the ecosystem wanted\n",
    "Docker, Inc. was aware of these challenges and began a huge effort to break apart the monolithic daemon and\n",
    "modularize it.\n",
    "The aim of this work was to break out as much of the functionality as possible from the deamon, and re-implement it in smaller specialized tools.\n",
    "These specialized tools can be swapped out, easy to re-use by third parties to build other tools\n",
    "This work of breaking apart and re-factoring the Docker engine has seen all of the container execution and\n",
    "container runtime code entirely removed from the daemon and refactored into small, specialized tools.\n",
    "<img src=\"figure53.png\" width=1920 height=1080 />\n",
    "\n",
    "$$ Figure\\ 5.3\\ A\\ high\\ level\\ view\\ of\\ current\\ Docker\\ Engine\\ with\\ brief\\ descriptions$$\n"
   ]
  },
  {
   "cell_type": "markdown",
   "metadata": {
    "pycharm": {
     "name": "#%% md\n"
    }
   },
   "source": [
    "#### The influence of the Open Container Initiative (OCI)\n",
    "While Docker, Inc. was breaking the daemon apart and refactoring code, the OCI was in the process of defining\n",
    "two container-related specifications (a.k.a. standards):\n",
    "1. Image spec\n",
    "2. Container runtime spec\n",
    "\n",
    "\n",
    "we shouldn’t see too much change, as stability is the name of the game here.\n",
    "Docker, Inc. was heavily involved in creating these specifications and contributed a lot of code.\n",
    "For example, the Docker daemon no longer contains any container runtime code — all container runtime code is\n",
    "implemented in a separate OCI-compliant layer. By default, Doer uses runc for this. runc is the reference\n",
    "implementation of the OCI container-runtime-spec."
   ]
  },
  {
   "cell_type": "markdown",
   "metadata": {
    "pycharm": {
     "name": "#%% md\n"
    }
   },
   "source": [
    "##### runc\n",
    "runc is the reference implementation of the OCI container-runtime-spec.\n",
    "runc is a small, lightweight CLI wrapper for libcontainer (remember that\n",
    "libcontainer originally replaced LXC as the interface layer with the host OS in the early Doer aritecture).\n",
    "runc has a single purpose in life — create containers. \n",
    "And it’s damn good at it. And fast! But as it’s a CLI wrapper,\n",
    "it’s effectively a standalone container runtime tool. Tis means you can download and build the binary, and you’ll\n",
    "have everything you need to build and play with runc (OCI) containers. \n",
    "But it’s bare bones and very low-level, meaning you’ll have none of the richness that you get with the full-blown Docker engine."
   ]
  },
  {
   "cell_type": "markdown",
   "metadata": {
    "pycharm": {
     "name": "#%% md\n"
    }
   },
   "source": [
    "##### containerd (pronounced container-dee)\n",
    "As part of the effort to strip functionality out of the Docker daemon, all of the container execution logic was\n",
    "ripped out and refactored into a new tool called containerd.\n",
    "Its sole purpose in life was to manage container lifecycle operations — start | stop | pause | rm....\n",
    "\n",
    "In the Docker engine stack, containerd sits between the daemon and runc at the OCI layer."
   ]
  },
  {
   "cell_type": "markdown",
   "metadata": {
    "pycharm": {
     "name": "#%% md\n"
    }
   },
   "source": [
    "###### As previously stated, containerd was originally intended to be small, lightweight, and designed for a single task in life — container lifecycle operations.\n",
    "However, over time it has branched out and taken on more functionality.\n",
    "things like image pulls, volumes and networks.\n",
    "One of the reasons for adding more functionality is to make it easier to use in other projects.\n",
    "For these reasons, containerd now does a lot more than simple container lifecycle management. However, all the extra\n",
    "functionality is modular and optional, meaning you can pick and choose which bits you want.\n",
    "At the time of writing, containerd is a fully graduated CNCF project, meaning it’s stable and considered ready for\n",
    "production."
   ]
  },
  {
   "attachments": {},
   "cell_type": "markdown",
   "metadata": {
    "pycharm": {
     "name": "#%% md\n"
    }
   },
   "source": [
    "#### Starting a new container (example)\n",
    "The most common way of starting containers is using the Docker CLI.\n",
    "> docker container run --name ctrl -it alpine:latest sh\n",
    "\n",
    "When you type commands like this into the Docker CLI, the Docker client converts them into the appropriate\n",
    "API payload and POSTs them to the API endpoint exposed by the Docker daemon.\n",
    "The API is implemented in the daemon and can be exposed over a local socket or the network. On Linux the\n",
    "socket is /var/run/docker.sock and on Windows it’s \\pipe\\docker_engine.\n",
    "Once the daemon receives the command to create a new container, it makes a call to containerd. Remember that\n",
    "the daemon no-longer contains any code to create containers!\n",
    "\n",
    "The daemon communicates with containerd via a CRUD-style API over gRPC.\n",
    "\n",
    "Despite its name, containerd cannot actually create containers. It uses runc to do that. It converts the required\n",
    "Docker image into an OCI bundle and tells runc to use this to create a new container.\n",
    "\n",
    "Despite its name, containerd cannot actually create containers. It uses runc to do that. It converts the required\n",
    "Docker image into an OCI bundle and tells runc to use this to create a new container.\n",
    "\n",
    "<img src=\"figure54.png\" width=1920 height=1080 />\n",
    "\n",
    "$$ Figure\\ 5.4\\ Summarization\\ of\\ the\\ process$$\n"
   ]
  },
  {
   "cell_type": "markdown",
   "metadata": {
    "pycharm": {
     "name": "#%% md\n"
    }
   },
   "source": [
    "##### Benefit\n",
    "Having all of the logic and code to start and manage containers removed from the daemon means that the entire\n",
    "container runtime is decoupled from the Docker daemon. We sometimes call this “daemonless containers”, and\n",
    "it makes it possible to perform maintenance and upgrades on the Docker daemon without impacting running\n",
    "containers!\n",
    "\n",
    "In the old model, where all of container runtime logic was implemented in the daemon, starting and stopping\n",
    "the daemon would kill all running containers on the host. This was a huge problem in production environments\n",
    "— especially when you consider how frequently new versions of Doer are released! Every daemon upgrade\n",
    "would kill all containers on that host — not good!\n",
    "\n",
    "Fortunately, this is no longer a problem.\n"
   ]
  },
  {
   "cell_type": "markdown",
   "metadata": {
    "pycharm": {
     "name": "#%% md\n"
    }
   },
   "source": [
    "#### Shim\n",
    "Some of the diagrams in the chapter have shown a shim component.\n",
    "\n",
    "The shim is integral to the implementation of daemonless containers - decoupling\n",
    "running containers from the daemon for things like daemon upgrades).\n",
    "\n",
    "We mentioned earlier that containerd uses runc to create new containers. In fact, it forks a new instance of runc\n",
    "for every container it creates. However, once each container is created, the parent runc process exits. This means\n",
    "we can run hundreds of containers without having to run hundreds of runc instances.\n",
    "\n",
    "Once a container’s parent runc process exits, the associated containerd-shim process becomes the container’s\n",
    "parent. Some of the responsibilities the shim performs as a container’s parent include:\n",
    "\n",
    "1. Keeping any STDIN and STDOUT streams open so that when the daemon is restarted, the container doesn’t terminate due to pipes being closed etc\n",
    "2. Reports the container’s exit status back to the daemon.\n",
    "\n",
    "##### How it’s implemented on Linux\n",
    "On a Linux system, the components we’ve discussed are implemented as separate binaries as follows:\n",
    "1. dockerd (the Docker daemon)\n",
    "2. docker-containerd (containerd)\n",
    "3.  docker-containerd-shim (shim)\n",
    "4. docker-runc (runc)\n",
    "\n",
    "You can see all of these on a Linux system by running a ps command on the Doer host. Obviously, some of\n",
    "them will only be present when the system has running containers.\n",
    "\n",
    "##### What’s the point of the daemon\n",
    "With all of the execution and runtime code stripped out of the daemon you might be asking the question: “what\n",
    "is left in the daemon?”\n",
    "\n",
    "Obviously, the answer to this question will change over time as more and more functionality is stripped out\n",
    "and modularized. However, at the time of writing, some of the major functionality that still exists in the\n",
    "daemon includes; image management, image builds, the REST API, authentication, security, core networking,\n",
    "and orchestration.\n",
    "\n"
   ]
  },
  {
   "attachments": {
    "image.png": {
     "image/png": "[encoded data removed]"
    }
   },
   "cell_type": "markdown",
   "metadata": {
    "pycharm": {
     "name": "#%% md\n"
    }
   },
   "source": [
    "#### Securing client and daemon communication\n",
    "###### How to secure the daemon over the network?\n",
    "Docker implements a client-server model.\n",
    "1. The client component implements the CLI\n",
    "2. The server (daemon) component implements the functionality, including the public-facing REST API\n",
    "\n",
    "The client -> docker or docker.exe\n",
    "\n",
    "The deamon -> docherd or dockerd.exe\n",
    "\n",
    "A default installation puts them on the same host and configures them to communicate over a local\n",
    "IPC socket:\n",
    "• /var/run/docker.sock on Linux\n",
    "• //./pipe/docker_engine on Windows\n",
    "\n",
    "\n",
    "It’s also possible to configure them to communicate over the network. By default, network communication occur\n",
    "over an unsecured HTTP soet on port 2375/tcp.\n",
    "\n",
    "![image.png](attachment:image.png)\n",
    "\n",
    "$$ Figure\\ 5.5$$\n",
    "\n",
    "An insecure configuration like this might be suitable for labs, but it’s unacceptable for anything else.\n",
    "\n",
    "TLS to the rescue!\n",
    "\n",
    "Docker lets you force the client and daemon to only accept network connections that are secured with TLS. This\n",
    "is recommended for production environments, even if all traffic is traversing trusted internal networks.\n",
    "\n",
    "You can secure both the client and the daemon. Securing the client forces the client to only connect to Docker\n",
    "daemons with certificates signed by a trusted Certificate Authority (CA). Securing the daemon forces the daemon\n",
    "to only accept connections from clients presenting certificates from a trusted CA. A combination of both modes\n",
    "offers the most security.\n",
    "\n",
    "We’ll use a simple lab environment to walk through the process of configuring Doer for daemon mode and\n",
    "client mode TLS.\n"
   ]
  },
  {
   "attachments": {},
   "cell_type": "markdown",
   "metadata": {
    "pycharm": {
     "name": "#%% md\n"
    }
   },
   "source": [
    "#### Lab setup\n",
    "\n",
    "We’ll use the lab setup shown in Figure 5.6 for the remainder of the examples. Your lab will look different, but\n",
    "it’s vital that the client and daemon can resolve each other by name.\n",
    "\n",
    "<img src=\"figure56.png\" width=1920 height=1080 />\n",
    "\n",
    "$$ Figure\\ 5.6\\ Sample\\ lab\\ setup $$\n",
    "    \n",
    "The high-level process will be as follows:\n",
    "1. Configure a CA and certificates\n",
    "2. Create a CA\n",
    "3. Create and sign keys for the Daemon\n",
    "4. Create and sign keys for the Client\n",
    "5. Distribute keys\n",
    "6. Configure Docker to use TLS\n",
    "7. Configure daemon mode\n",
    "8. Configure client mode\n",
    "\n",
    "##### Create a CA (self-signed certs)\n",
    "\n",
    "You only need to complete this step if you are following along in a lab and don’t already have a CA. Also, the CA\n",
    "we’re building here is to help demonstrate how to configure Docker, we’re not attempting to build something\n",
    "production-grade.\n",
    "\n",
    "Run the following commands from the CA node in the lab.\n",
    "\n",
    "1. Create a new private key for the CA. \n",
    "* the cmd:  openssl genrsa -aes256 -out ca-key.pem 4096\n",
    "\n",
    "* You’ll set a passphrase as part of the operation. Don’t forget it!\n",
    "\n",
    "* You’ll have a new file in your current directory called ca-key.pem. This is the CA’s private key.\n",
    "\n",
    "2. Use the CA’s private key to generate a public key (certificate).\n",
    "* cmd:  openssl req -new -x509 -days 730 -key ca-key.pem -sha256 -out ca.pem\n",
    "\n",
    "* You’ll need to enter the passphrase from the previous step. \n",
    "\n",
    "* This has added a second file to your working directory called ca.pem. This is the CA’s public key, a.k.a. “certificate”.\n",
    "\n",
    "\n",
    "You now have two files in your current directory: ca-key.pem and ca.pem. these are the CA’s key-pair and form\n",
    "the identity of the CA. At this point, the CA is ready to use\n",
    "\n",
    "##### Create a key-pair for the daemon\n",
    "We’ll generate a new key-pair for the Docker daemon on node3. It’s a four-step process:\n",
    "1. Create the private key\n",
    "2. Create the signing request\n",
    "3. Add IP addresses and make it valid for server authorization\n",
    "4. Generate the certificate\n",
    "\n",
    "###### Let's do it\n",
    "1. Create the Private Key for the deamon\n",
    "    * Create a new file in your working directory: called daemon-key.pem. This is the private key for the daemon node.\n",
    "    * cmd: openssl genrsa -out daemon-key.pem 4096\n",
    "2. Create a certificate signing request (CSR) for the CA to create and sign a certificate for the daemon. Be sure to use the correct DNS name for your daemon node. The example uses node3.\n",
    "    * cmd: openssl req -subj \"CN=node3\" -sha256 -new -key deamon-key.pem -out deamon.csr\n",
    "    * You now have a fourth file in your working directory. This one is the CSR and it is called daemon.csr\n",
    "3. This step creates a file that tells the CA to add a couple of extended attributes to the daemon’s certificate when it signs it. These add the daemon’s DNS name and IP address, as well as configure the certificate to be valid for server authentication.\n",
    "    * subjectAltName = DNS:node3, IP:10.0.0.12, extendedKeyUsage = serverAuth\n",
    "\n"
   ]
  },
  {
   "cell_type": "markdown",
   "metadata": {
    "pycharm": {
     "name": "#%% md\n"
    }
   },
   "source": [
    "##### Benefit\n",
    "Having all of the logic and code to start and manage containers removed from the daemon means that the entire\n",
    "container runtime is decoupled from the Docker daemon. We sometimes call this “daemonless containers”, and\n",
    "it makes it possible to perform maintenance and upgrades on the Docker daemon without impacting running\n",
    "containers!\n",
    "\n",
    "In the old model, where all of container runtime logic was implemented in the daemon, starting and stopping\n",
    "the daemon would kill all running containers on the host. This was a huge problem in production environments\n",
    "— especially when you consider how frequently new versions of Doer are released! Every daemon upgrade\n",
    "would kill all containers on that host — not good!\n",
    "\n",
    "Fortunately, this is no longer a problem.\n"
   ]
  },
  {
   "cell_type": "markdown",
   "metadata": {
    "pycharm": {
     "name": "#%% md\n"
    }
   },
   "source": [
    "#### Shim\n",
    "Some of the diagrams in the chapter have shown a shim component.\n",
    "\n",
    "The shim is integral to the implementation of daemonless containers - decoupling\n",
    "running containers from the daemon for things like daemon upgrades).\n",
    "\n",
    "We mentioned earlier that containerd uses runc to create new containers. In fact, it forks a new instance of runc\n",
    "for every container it creates. However, once each container is created, the parent runc process exits. This means\n",
    "we can run hundreds of containers without having to run hundreds of runc instances.\n",
    "\n",
    "Once a container’s parent runc process exits, the associated containerd-shim process becomes the container’s\n",
    "parent. Some of the responsibilities the shim performs as a container’s parent include:\n",
    "\n",
    "1. Keeping any STDIN and STDOUT streams open so that when the daemon is restarted, the container doesn’t terminate due to pipes being closed etc\n",
    "2. Reports the container’s exit status back to the daemon.\n",
    "\n",
    "##### How it’s implemented on Linux\n",
    "On a Linux system, the components we’ve discussed are implemented as separate binaries as follows:\n",
    "1. dockerd (the Docker daemon)\n",
    "2. docker-containerd (containerd)\n",
    "3.  docker-containerd-shim (shim)\n",
    "4. docker-runc (runc)\n",
    "\n",
    "You can see all of these on a Linux system by running a ps command on the Docker host. Obviously, some of\n",
    "them will only be present when the system has running containers.\n",
    "\n",
    "##### What’s the point of the daemon\n",
    "With all of the execution and runtime code stripped out of the daemon you might be asking the question: “what\n",
    "is left in the daemon?”\n",
    "\n",
    "Obviously, the answer to this question will change over time as more and more functionality is stripped out\n",
    "and modularized. However, at the time of writing, some of the major functionality that still exists in the\n",
    "daemon includes; image management, image builds, the REST API, authentication, security, core networking,\n",
    "and orchestration.\n",
    "\n"
   ]
  },
  {
   "attachments": {},
   "cell_type": "markdown",
   "metadata": {
    "pycharm": {
     "name": "#%% md\n"
    }
   },
   "source": [
    "#### Securing client and daemon communication\n",
    "###### How to secure the daemon over the network?\n",
    "Docker implements a client-server model.\n",
    "1. The client component implements the CLI\n",
    "2. The server (daemon) component implements the functionality, including the public-facing REST API\n",
    "\n",
    "The client -> docker or docker.exe\n",
    "\n",
    "The deamon -> docherd or dockerd.exe\n",
    "\n",
    "A default installation puts them on the same host and configures them to communicate over a local\n",
    "IPC socket:\n",
    "• /var/run/docker.sock on Linux\n",
    "• //./pipe/docker_engine on Windows\n",
    "\n",
    "\n",
    "It’s also possible to configure them to communicate over the network. By default, network communication occur\n",
    "over an unsecured HTTP soet on port 2375/tcp.\n",
    "\n",
    "<img src=\"figure55.png\" width=1920 height=1080 />\n",
    "\n",
    "$$ Figure\\ 5.5$$\n",
    "\n",
    "An insecure configuration like this might be suitable for labs, but it’s unacceptable for anything else.\n",
    "\n",
    "TLS to the rescue!\n",
    "\n",
    "Docker lets you force the client and daemon to only accept network connections that are secured with TLS. This\n",
    "is recommended for production environments, even if all traffic is traversing trusted internal networks.\n",
    "\n",
    "You can secure both the client and the daemon. Securing the client forces the client to only connect to Docker\n",
    "daemons with certificates signed by a trusted Certificate Authority (CA). Securing the daemon forces the daemon\n",
    "to only accept connections from clients presenting certificates from a trusted CA. A combination of both modes\n",
    "offers the most security.\n",
    "\n",
    "We’ll use a simple lab environment to walk through the process of configuring Docker for daemon mode and\n",
    "client mode TLS.\n"
   ]
  },
  {
   "attachments": {},
   "cell_type": "markdown",
   "metadata": {
    "pycharm": {
     "name": "#%% md\n"
    }
   },
   "source": [
    "#### Lab setup\n",
    "\n",
    "We’ll use the lab setup shown in Figure 5.6 for the remainder of the examples. Your lab will look different, but\n",
    "it’s vital that the client and daemon can resolve each other by name.\n",
    "\n",
    "<img src=\"figure56.png\" width=1920 height=1080 />\n",
    "\n",
    "$$ Figure\\ 5.6\\ Sample\\ lab\\ setup $$\n",
    "    \n",
    "The high-level process will be as follows:\n",
    "1. Configure a CA and certificates\n",
    "2. Create a CA\n",
    "3. Create and sign keys for the Daemon\n",
    "4. Create and sign keys for the Client\n",
    "5. Distribute keys\n",
    "6. Configure Docker to use TLS\n",
    "7. Configure daemon mode\n",
    "8. Configure client mode\n",
    "\n",
    "##### Create a CA (self-signed certs)\n",
    "\n",
    "You only need to complete this step if you are following along in a lab and don’t already have a CA. Also, the CA\n",
    "we’re building here is to help demonstrate how to configure Docker, we’re not attempting to build something\n",
    "production-grade.\n",
    "\n",
    "Run the following commands from the CA node in the lab.\n",
    "\n",
    "1. Create a new private key for the CA. \n",
    "* the cmd:  openssl genrsa -aes256 -out ca-key.pem 4096\n",
    "\n",
    "* You’ll set a passphrase as part of the operation. Don’t forget it!\n",
    "\n",
    "* You’ll have a new file in your current directory called ca-key.pem. This is the CA’s private key.\n",
    "\n",
    "2. Use the CA’s private key to generate a public key (certificate).\n",
    "* cmd:  openssl req -new -x509 -days 730 -key ca-key.pem -sha256 -out ca.pem\n",
    "\n",
    "* You’ll need to enter the passphrase from the previous step. \n",
    "\n",
    "* This has added a second file to your working directory called ca.pem. This is the CA’s public key, a.k.a. “certificate”.\n",
    "\n",
    "\n",
    "You now have two files in your current directory: ca-key.pem and ca.pem. ese are the CA’s key-pair and form\n",
    "the identity of the CA. At this point, the CA is ready to use\n",
    "\n",
    "##### Create a key-pair for the daemon\n",
    "We’ll generate a new key-pair for the Docker daemon on node3. It’s a four-step process:\n",
    "1. Create the private key\n",
    "2. Create the signing request\n",
    "3. Add IP addresses and make it valid for server authorization\n",
    "4. Generate the certificate\n",
    "\n",
    "###### Let's do it\n",
    "1. Create the Private Key for the deamon\n",
    "    * Create a new file in your working directory: called daemon-key.pem. This is the private key for the daemon node.\n",
    "    * cmd: openssl genrsa -out daemon-key.pem 4096\n",
    "2. Create a certificate signing request (CSR) for the CA to create and sign a certificate for the daemon. Be sure to use the correct DNS name for your daemon node. The example uses node3.\n",
    "    * cmd: openssl req -subj \"CN=node3\" -sha256 -new -key deamon-key.pem -out deamon.csr\n",
    "    * You now have a fourth file in your working directory. This one is the CSR and it is called daemon.csr\n",
    "3. This step creates a file that tells the CA to add a couple of extended attributes to the daemon’s certificate when it signs it. These add the daemon’s DNS name and IP address, as well as configure the certificate to be valid for server authentication.\n",
    "    * subjectAltName = DNS:node3, IP:10.0.0.12, extendedKeyUsage = serverAuth\n",
    "    * cmd: echo\n",
    "\n"
   ]
  },
  {
   "attachments": {},
   "cell_type": "markdown",
   "metadata": {
    "pycharm": {
     "name": "#%%\n"
    }
   },
   "source": [
    "<img src=\"figure57.png\" width=1920 height=1080 />"
   ]
  },
  {
   "cell_type": "code",
   "execution_count": null,
   "metadata": {},
   "outputs": [],
   "source": []
  }
 ],
 "metadata": {
  "kernelspec": {
   "display_name": "Python 3 (ipykernel)",
   "language": "python",
   "name": "python3"
  },
  "language_info": {
   "codemirror_mode": {
    "name": "ipython",
    "version": 3
   },
   "file_extension": ".py",
   "mimetype": "text/x-python",
   "name": "python",
   "nbconvert_exporter": "python",
   "pygments_lexer": "ipython3",
   "version": "3.10.4"
  }
 },
 "nbformat": 4,
 "nbformat_minor": 1
}
