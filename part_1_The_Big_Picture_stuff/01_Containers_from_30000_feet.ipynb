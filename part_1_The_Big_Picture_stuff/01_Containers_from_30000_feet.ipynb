{
 "cells": [
  {
   "cell_type": "markdown",
   "source": [
    "# 1: Containers from 30,000 feet\n",
    "### The bad old days\n",
    "Applications are heart of businesses. If application break,  businesses break. Sometimes they even go bust, these statements get truer today.\n",
    "Most applications run on servers. In the past we could only run one application per server. As a result, IT did the only thing it could do — it bought big fast servers that cost a lot of money. A tragic waste of company capital and environment resources\n",
    "### Hello VMware!\n",
    "A technology that allowed us to safely and securely run multiple bussiness applications on a single server\n",
    "#### VMwarts\n",
    "The fact that VM requires its own dedicated OS is a major flaw, CPU, RAM, other resources and lincense -> waste of time and resources\n",
    "VMs are slow to boot, and portability is not greate - migrating to cloud is harder than it needs to be.\n",
    "### Hello containers\n",
    "For a longtime, the big web-scale player, like google, have been using container technology to address the shortcomings of the VM model.\n",
    "In the container model, the container is roughly analogous to the VM. A major different is that containers do not require their own fill-blown OS. Net result: Savings on time, resources, and capital front\n",
    "Containters are also fast to start and ultra-portable. Moving containers workloads from laptop, to the cloud, and VMs or bare metal in your data center is a breeze\n",
    "### Linux containers\n",
    "Modern containers start in Linux world and are product of an immense amount of work from a wide variety of people over a long period of time.  Just as one example, Google LLC has contributed many container-related technologies to the Linux kernel. Without these, and other contributions, we wouldn’t have modern containers today\n",
    "Some of the major technologies that enabled the massive growth of containers in recent years include: kernel namespaces, control groups, union filesystems, and of course Docker.\n",
    "## Hello Docker\n",
    "Docker was the magic that made Linux containers usable for mere mortals\n",
    "Docker, Inc. made containers simple!\n",
    "### Windows containers\n",
    "Over the past few years, Microsoft Corp. has worked extremely hard to bring Docker and container technologies to the Windows platform.\n",
    "Now, Windows containers are available on the Windows desktop and Windows Sever platform,\n",
    "Docker experience on Windows almost the same as Docker on Linux\n",
    "### Window containers vs Linux Containers\n",
    "...\n",
    "### What about Kubernetes\n",
    "Kubernetes is an open source project of Google that has quickly emerged as de facto orchestrator of containerized apps.\n",
    "It's just a fancy way of saying Kubernetes is the most popular tool for deploying and managing containerized apps.\n",
    "* Note: A containerized app is an application running as a container\n",
    "container is the small specialized part of Docker that does the low level tasks of starting and stopping container\n"
   ],
   "metadata": {
    "collapsed": false,
    "pycharm": {
     "name": "#%% md\n"
    }
   }
  },
  {
   "cell_type": "markdown",
   "source": [
    "\n"
   ],
   "metadata": {
    "collapsed": false,
    "pycharm": {
     "name": "#%% md\n"
    }
   }
  }
 ],
 "metadata": {
  "kernelspec": {
   "display_name": "Python 3",
   "language": "python",
   "name": "python3"
  },
  "language_info": {
   "codemirror_mode": {
    "name": "ipython",
    "version": 2
   },
   "file_extension": ".py",
   "mimetype": "text/x-python",
   "name": "python",
   "nbconvert_exporter": "python",
   "pygments_lexer": "ipython2",
   "version": "2.7.6"
  }
 },
 "nbformat": 4,
 "nbformat_minor": 0
}