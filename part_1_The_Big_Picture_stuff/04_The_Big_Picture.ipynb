{
 "cells": [
  {
   "cell_type": "markdown",
   "source": [
    "# The Big Picture\n",
    "We 'll break this chapter into two:\n",
    "* The Ops Perspective\n",
    "* The Devs Perspective\n",
    "#### In the Ops Perspective section, we'll\n",
    "1. download an image,\n",
    "2. start a new container,\n",
    "3. log into the new container,\n",
    "4. run a command line inside of it,\n",
    "5. and then destroy it\n",
    "#### In the Devs Perspective section, we'll more on the app.\n",
    "1. We'll clone some app from Git-Hub,\n",
    "2. inspect a Dockerfile,\n",
    "3. containerize the app,\n",
    "4. run it as container.\n",
    "## The Ops Perspective\n",
    "When installing Docker, you get two major compoenents:\n",
    "1. The Docker client\n",
    "2. The Docker deamon\n",
    "The deamon implements the runtime, API and everything else required to run Docker.\n",
    "In a default Linux installation, the client talks to the daemon via a local IPC/Unix soet at /var/run/docker.sock.\n",
    "Once installed, you can use\n",
    "the docker version command to test that the client and daemon (server) are running and talking to each other.\n",
    "> sudo docker version\n",
    "\n",
    "Client: Docker Engine - Community\n",
    "Version: 19.03.8\n",
    "API version: 1.40\n",
    "Go version: go1.12.17\n",
    "Git commit: afacb8b\n",
    "Built: Wed Mar 11 01:23:10 2020\n",
    "OS/Arch: linux/amd64\n",
    "Experimental: false\n",
    "Server:\n",
    "Engine:\n",
    "Version: 19.03.8\n",
    "API version: 1.40 (minimum version 1.12)\n",
    "Go version: go1.12.17\n",
    "Git commit: afacb8b\n",
    "Built: Wed Mar 11 01:29:16 2020\n",
    "OS/Arch: linux/amd64\n",
    "Experimental: false\n",
    "containerd:\n",
    "Version: v1.2.13\n",
    "\n",
    "\n",
    "\n"
   ],
   "metadata": {
    "collapsed": false,
    "pycharm": {
     "name": "#%% md\n"
    }
   }
  },
  {
   "cell_type": "markdown",
   "source": [
    "If you get a response back from the Client and Server, you’re good to go\n",
    "If you are using Linux and get an error response from the Server component, make sure that Docker is up and\n",
    "running. Also, try the command again with sudo in front of it: sudo docker version. If it works with sudo you\n",
    "will need to add your user account to the local docker group, or prefix the remainder of the commands with sudo.\n",
    "## Images\n",
    "It’s useful to think of a Doer image as an object that contains an OS filesystem, an application, and all application\n",
    "dependencies.\n",
    "If you work in operations, it’s like a virtual maine template. A virtual maine template is\n",
    "essentially a stopped virtual maine. In the Doer world, an image is effectively a stopped container.\n",
    "If you’re\n",
    "a developer, you can think of an image as a class.\n",
    "\n",
    "> docker image ls\n",
    "REPOSITORY  TAG     IMAGE   ID   CREATED     SIZE\n",
    ">\n",
    "\n",
    "\n",
    "If you are working from a freshly installed Docker host, or Play With Docker, you will have no images\n",
    "> docker image pull ubuntu:latest\n",
    "\n",
    "latest: Pulling from library/ubuntu\n",
    "50aff78429b1: Pull complete\n",
    "f6d82e297bce: Pull complete\n",
    "275abb2c8a6f: Pull complete\n",
    "9f15a39356d6: Pull complete\n",
    "fc0342a94c89: Pull complete\n",
    "Digest: sha256:fbaf303...c0ea5d1212\n",
    "Status: Downloaded newer image for ubuntu:latest\n"
   ],
   "metadata": {
    "collapsed": false,
    "pycharm": {
     "name": "#%% md\n"
    }
   }
  },
  {
   "cell_type": "markdown",
   "source": [
    "#### Docker Images contains:\n",
    "1. An Os Filesystem\n",
    "2. An Application\n",
    "3. All Application dependencies"
   ],
   "metadata": {
    "collapsed": false,
    "pycharm": {
     "name": "#%% md\n"
    }
   }
  },
  {
   "cell_type": "markdown",
   "source": [
    "For now,\n",
    "it’s enough to know that an image contains enough of an operating system (OS), as well as all the code\n",
    "and dependencies to run whatever application it’s designed for. e ubuntu image that we’ve pulled has\n",
    "a stripped-down version of the Ubuntu Linux filesystem, including a few of the common Ubuntu utilities"
   ],
   "metadata": {
    "collapsed": false,
    "pycharm": {
     "name": "#%% md\n"
    }
   }
  },
  {
   "cell_type": "markdown",
   "source": [
    "It’s also worth noting that each image gets its own unique ID.When referencing images, you can refer to them\n",
    "using either IDs or names. If you’re working with image ID’s, it’s usually enough to type the first few characters\n",
    "of the ID — as long as it’s unique, Docker will know which image you mean"
   ],
   "metadata": {
    "collapsed": false,
    "pycharm": {
     "name": "#%% md\n"
    }
   }
  },
  {
   "cell_type": "markdown",
   "source": [
    "## Containers\n",
    "Now that we have an image pulled locally, we can use the docker container run command to launch a container\n",
    "from it.\n",
    "for linux:\n",
    "> docker container run -it ubuntu:latest /bin/bash\n",
    "\n",
    "\n",
    "for Windows:\n",
    "> docker container run -it mcr.microsoft.com/powershell:lts-nanoserver-1903 pwsh.exe"
   ],
   "metadata": {
    "collapsed": false,
    "pycharm": {
     "name": "#%% md\n"
    }
   }
  },
  {
   "cell_type": "markdown",
   "source": [
    "Look closely at the output from the previous commands. You should notice that the shell prompt has chaned in\n",
    "each instance. This is because the -it flags switch your shell into the terminal of the container — you are literally\n",
    "inside of the new container!"
   ],
   "metadata": {
    "collapsed": false,
    "pycharm": {
     "name": "#%% md\n"
    }
   }
  },
  {
   "cell_type": "markdown",
   "source": [
    "Let’s examine that docker container run command:\n",
    "> docker container run -it ubuntu\n",
    "\n",
    "or you can do it for more specifically\n",
    "> docker container run -it ubuntu:latest /bin/bash\n",
    "\n",
    "$ docker \\ container \\ run $: tells the Docker daemon to start a new container\n",
    "$ -it \\ $ flags: tells the Docker daemon to make interactive and to attach the current shell to the container's terminal\n",
    "$ ubuntu:latest \\ $: Tells the docker we want it based on the $ ubuntu:latest \\ $:\n",
    "$ /bin/bash \\ $: tell the docker which process we want to run inside of the container\n",
    "after running the command: the ternimal look like this:\n",
    "root@6dc20d508db0:/#"
   ],
   "metadata": {
    "collapsed": false,
    "pycharm": {
     "name": "#%% md\n"
    }
   }
  },
  {
   "cell_type": "markdown",
   "source": [
    "Run the command below inside of the container:\n",
    "root@6dc20d508db0:/#  ps -elf\n",
    "you will see some thing like this:\n",
    "F S UID PID PPID NI ADDR SZ WCHAN STIME TTY TIME CMD\n",
    "4 S root 1 0 0 - 4560 - 13:38 pts/0 00:00:00 /bin/bash\n",
    "0 R root 9 1 0 - 8606 - 13:38 pts/0 00:00:00 ps -elf"
   ],
   "metadata": {
    "collapsed": false,
    "pycharm": {
     "name": "#%% md\n"
    }
   }
  },
  {
   "cell_type": "markdown",
   "source": [
    "The Linux container only has two processes:\n",
    "* PID 1. This is the $ /bin/bash $ process we tell the container to run with the docker container $ container \\ run $ command\n",
    "* PID 9. This is the command:\n",
    "> ps -elf\n",
    "\n",
    "    + list the running processes\n"
   ],
   "metadata": {
    "collapsed": false,
    "pycharm": {
     "name": "#%% md\n"
    }
   }
  },
  {
   "cell_type": "markdown",
   "source": [
    "The presence of the $ ps -elf $ process in the Linux output can be a bit misleading as it is a short-lived process that\n",
    "dies as soon as the ps command completes\n",
    "the only long-running process inside of the container is the $/bin/bash$ process."
   ],
   "metadata": {
    "collapsed": false,
    "pycharm": {
     "name": "#%% md\n"
    }
   }
  },
  {
   "cell_type": "markdown",
   "source": [
    "The Windows container has a lot more going on. is is an artefact of the way the Windows Operating System\n",
    "works.\n",
    "Press Ctrl-PQ to exit the container without terminating it. This will land your shell back at the terminal of your\n",
    "Docker host. You can verify this by looking at your shell prompt"
   ],
   "metadata": {
    "collapsed": false,
    "pycharm": {
     "name": "#%% md\n"
    }
   }
  },
  {
   "cell_type": "markdown",
   "source": [
    "Now that you are back at the shell prompt of your Docker host, run the ps command again.\n",
    "> docker container ls\n",
    "\n",
    "\n",
    "CONTAINER ID        IMAGE           COMMAND         CREATED     STATUS      NAMES\n",
    "6dc20d508db0        ubuntu:latest   \"/bin/bash\"     7 mins      Up 7 min    compassionate_goldstine\n",
    "\n",
    "compassionate_goldstine: the name will be different to your, and it changes everytime you run command. some time it names silly, some time it name villiant"
   ],
   "metadata": {
    "collapsed": false,
    "pycharm": {
     "name": "#%% md\n"
    }
   }
  },
  {
   "cell_type": "markdown",
   "source": [
    "## Attaching to running containers\n",
    "\n",
    "You can attach your shell to the terminal of a running container with the docker container $ exec command $.\n",
    "\n",
    "* As the container from the previous steps is still running, let’s make a new connection to it."
   ],
   "metadata": {
    "collapsed": false,
    "pycharm": {
     "name": "#%% md\n"
    }
   }
  },
  {
   "cell_type": "markdown",
   "source": [
    "> docker container exec -it compassionate_goldstine bash\n",
    "\n",
    "My images name is $ \\ compassionate\\_\\ goldstine \\ $, however your will be different, don't copy and paste, look at the previous section to find your name"
   ],
   "metadata": {
    "collapsed": false,
    "pycharm": {
     "name": "#%% md\n"
    }
   }
  },
  {
   "cell_type": "markdown",
   "source": [
    "Notice that your shell prompt has changed again. You are logged into the container again.\n",
    "the format of the docker $ container\\ exec\\ command $ is:\n",
    "$ docker \\ container \\ exec \\ <options> \\ <container-name or container-id> \\ <command/app> $"
   ],
   "metadata": {
    "collapsed": false,
    "pycharm": {
     "name": "#%% md\n"
    }
   }
  },
  {
   "cell_type": "markdown",
   "source": [
    "Exit the container again by pressing Ctrl-PQ. Your shell prompt should be back to the Docker Host\n",
    "run\n",
    "> docker container ls\n",
    "\n",
    "to list all the container"
   ],
   "metadata": {
    "collapsed": false,
    "pycharm": {
     "name": "#%% md\n"
    }
   }
  },
  {
   "cell_type": "markdown",
   "source": [
    "Stop the container and kill it using the docker $ container \\ stop $ and $ docker \\ container \\ rm $commands.\n",
    "Remember to substitute the names/IDs of your own containers.\n"
   ],
   "metadata": {
    "collapsed": false,
    "pycharm": {
     "name": "#%% md\n"
    }
   }
  },
  {
   "cell_type": "markdown",
   "source": [
    "> docker container stop compassionate_goldstine\n",
    "> docker container rm compassionate_goldstine"
   ],
   "metadata": {
    "collapsed": false,
    "pycharm": {
     "name": "#%% md\n"
    }
   }
  },
  {
   "cell_type": "markdown",
   "source": [
    "now check how many containers left by command:\n",
    "> docker container ls"
   ],
   "metadata": {
    "collapsed": false,
    "pycharm": {
     "name": "#%% md\n"
    }
   }
  },
  {
   "cell_type": "markdown",
   "source": [
    "#### Summary\n",
    "##### now you already:\n",
    "1. pulled an Docker Images:\n",
    "> docker image pull ubuntu:latest\n",
    "2. start a container from it\n",
    "> docker container run -it ubuntu:latest /bin/bash\n",
    "3. attach to it:\n",
    "> docker container exec -it {NAME} bash\n",
    "\n",
    "for the exmaple it is:\n",
    "> docker container exec -it compassionate_goldstine bash\n",
    "4. executed a command inside it:\n",
    "for the example it it:\n",
    "> docker container ls\n",
    "5. stopped it\n",
    "> docker stop {Name}\n",
    "6. deleted it\n",
    "> docker rm {Name}\n"
   ],
   "metadata": {
    "collapsed": false,
    "pycharm": {
     "name": "#%% md\n"
    }
   }
  },
  {
   "cell_type": "markdown",
   "source": [
    "## Dev Perspective"
   ],
   "metadata": {
    "collapsed": false,
    "pycharm": {
     "name": "#%% md\n"
    }
   }
  },
  {
   "cell_type": "markdown",
   "source": [
    "Container are all the about the app\n",
    "In this section you'll do:\n",
    "1. clone an app from git\n",
    "    * for linux: https://github.com/nigelpoulton/psweb.git\n",
    "    * for window: https://github.com/nigelpoulton/psweb.git\n",
    "2. inspect its Dockerfile\n",
    "3. Containerize it\n",
    "4. Run it as a container"
   ],
   "metadata": {
    "collapsed": false,
    "pycharm": {
     "name": "#%% md\n"
    }
   }
  },
  {
   "cell_type": "markdown",
   "source": [
    "The rest of this section will focus on the Linux NGINX example.\n",
    "However, both examples are containerizing\n",
    "simple web apps, so the process is the same. Where there are differences in the Windows example we will highlight\n",
    "them to help you follow along\n",
    "Run all the following commands from a terminal on you Docker host"
   ],
   "metadata": {
    "collapsed": false,
    "pycharm": {
     "name": "#%% md\n"
    }
   }
  },
  {
   "cell_type": "markdown",
   "source": [
    "1. Clone the repo locally:\n",
    "git clone https://github.com/nigelpoulton/\n",
    "   * Change the directory into the clone's repo\n",
    "cd psweb"
   ],
   "metadata": {
    "collapsed": false,
    "pycharm": {
     "name": "#%% md\n"
    }
   }
  },
  {
   "cell_type": "markdown",
   "source": [
    "The Linux example is a simple nodejs web app. The Windows example is an IIS server running some static HTML.\n",
    "list all content to of the git contents:\n",
    "1. ls -l"
   ],
   "metadata": {
    "collapsed": false,
    "pycharm": {
     "name": "#%% md\n"
    }
   }
  },
  {
   "cell_type": "markdown",
   "source": [
    "Dockerfile: a plain text file tell docker how to build app and dependencies into a docker image"
   ],
   "metadata": {
    "collapsed": false,
    "pycharm": {
     "name": "#%% md\n"
    }
   }
  },
  {
   "cell_type": "markdown",
   "source": [
    "you can list the contains of Dockerfile with the follwing comands:\n",
    "    > $ cat Dockerfile\n",
    "\n",
    "FROM alpine\n",
    "LABEL maintainer=\"nigelpoulton@hotmail.com\"\n",
    "RUN apk add --update nodejs nodejs-npm\n",
    "COPY . /src\n",
    "WORKDIR /src\n",
    "RUN npm install\n",
    "EXPOSE 8080\n",
    "ENTRYPOINT [\"node\", \"./app.js\"]"
   ],
   "metadata": {
    "collapsed": false,
    "pycharm": {
     "name": "#%% md\n"
    }
   }
  },
  {
   "cell_type": "markdown",
   "source": [
    "For now, it’s enough to understand that each line represents an instruction that Docker uses to build an image.\n",
    "At this point we have pulled some application code from a remote Git repo. We also have a Dockerfile containing\n",
    "instructions on how to build the app into a Doer image.\n",
    "Use the docker image build command to create a new image using the instructions in the Dockerfile. is\n",
    "example creates a new Doer image called test:latest."
   ],
   "metadata": {
    "collapsed": false,
    "pycharm": {
     "name": "#%% md\n"
    }
   }
  },
  {
   "cell_type": "markdown",
   "source": [
    "> $ docker image build -t test:latest .\n"
   ],
   "metadata": {
    "collapsed": false,
    "pycharm": {
     "name": "#%% md\n"
    }
   }
  },
  {
   "cell_type": "markdown",
   "source": [
    "\n",
    "\n",
    "##### Note:\n",
    "1. Remember there is a '.' characters inside the cmd:   $ docker\\ image\\ -t\\ test\\:latest\\ .$\n",
    "2. Connect to the internet\n",
    "\n",
    "\n",
    "\n",
    "###### the terminal should look something like this:\n",
    "Sending build context to Docker daemon 74.75kB\n",
    "Step 1/8 : FROM alpine\n",
    "latest: Pulling from library/alpine\n",
    "88286f41530e: Pull complete\n",
    "Digest: sha256:f006ecbb824...0c103f4820a417d\n",
    "Status: Downloaded newer image for alpine:latest\n",
    "---> 76da55c8019d\n",
    "<Snip>\n",
    "Successfully built f154cb3ddbd4\n",
    "Successfully tagged test:latest"
   ],
   "metadata": {
    "collapsed": false,
    "pycharm": {
     "name": "#%% md\n"
    }
   }
  },
  {
   "cell_type": "markdown",
   "source": [
    "cmd this:\n",
    "> docker image ls\n",
    "\n",
    "###### and you should see something like:\n",
    "REPO$\\qquad$TAG$\\qquad$IMAGE$\\qquad$ID$\\qquad$CREATED$\\qquad$SIZE\n",
    "test$\\qquad$latest$\\qquad$f154cb3ddbd4$\\qquad$1 minute ago$\\qquad$81.5MB\n",
    "\n",
    "###### it means that the build is complete"
   ],
   "metadata": {
    "collapsed": false,
    "pycharm": {
     "name": "#%% md\n"
    }
   }
  },
  {
   "cell_type": "markdown",
   "source": [
    "Run the container from the image and test the app:\n",
    "> docker container run -d --name web1 --publish 8080:8080 test:latest"
   ],
   "metadata": {
    "collapsed": false,
    "pycharm": {
     "name": "#%% md\n"
    }
   }
  },
  {
   "cell_type": "markdown",
   "source": [
    "Open you browser (Internet Explorer, Chrome, Firefox, etc)\n",
    "and then type localhost:8080\n",
    "You should see some thing like: \"Hello Pluraller\" or \"Hello Docker Learner\" depend on the version you clone from github"
   ],
   "metadata": {
    "collapsed": false,
    "pycharm": {
     "name": "#%% md\n"
    }
   }
  },
  {
   "cell_type": "markdown",
   "source": [
    "#### Summary\n",
    "1. Clone an app from github - using git clone https://github.com/.........\n",
    "2. go to that directory - Using cd command\n",
    "3. list the content of Dockerfile - Using >cat Dockerfile\n",
    "4. create image using cmd $ docker\\ image\\ build\\ -t\\ {path}\\ . $\n",
    "5. make sure image exist be cmd $ docker\\ imaget lst $\n",
    "6. run it by using $ docker container run -d --name {your favourite name} --publish 8080:8080 {folder your created from step 4}\n",
    "\n",
    "###### Combine all of these steps call: Containerize"
   ],
   "metadata": {
    "collapsed": false,
    "pycharm": {
     "name": "#%% md\n"
    }
   }
  },
  {
   "cell_type": "markdown",
   "source": [
    "Containerize = Take some application + build it into a Docker Image + Run a Container from it"
   ],
   "metadata": {
    "collapsed": false,
    "pycharm": {
     "name": "#%% md\n"
    }
   }
  },
  {
   "cell_type": "markdown",
   "source": [
    "## Chapter Summary\n",
    "#### In Ops Perspective:\n",
    "1. Download a docker image\n",
    "2. Launch a container from it\n",
    "3. Log into the container\n",
    "4. Execute command inside of it\n",
    "5. Stop and Delete the container\n",
    "\n",
    "#### In Dev Perspective: Containerize\n",
    "1. Pulling some applications from Git\n",
    "2. Building it into an Image using instruction in a Dockerfile\n",
    "3. Run the containerize app"
   ],
   "metadata": {
    "collapsed": false,
    "pycharm": {
     "name": "#%% md\n"
    }
   }
  },
  {
   "cell_type": "code",
   "execution_count": null,
   "outputs": [],
   "source": [],
   "metadata": {
    "collapsed": false,
    "pycharm": {
     "name": "#%%\n"
    }
   }
  }
 ],
 "metadata": {
  "kernelspec": {
   "display_name": "Python 3",
   "language": "python",
   "name": "python3"
  },
  "language_info": {
   "codemirror_mode": {
    "name": "ipython",
    "version": 2
   },
   "file_extension": ".py",
   "mimetype": "text/x-python",
   "name": "python",
   "nbconvert_exporter": "python",
   "pygments_lexer": "ipython2",
   "version": "2.7.6"
  }
 },
 "nbformat": 4,
 "nbformat_minor": 0
}