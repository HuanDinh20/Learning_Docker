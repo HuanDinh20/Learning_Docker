{
 "cells": [
  {
   "cell_type": "markdown",
   "source": [
    "# Docker\n",
    "When talk about Docker, we can referring to either of the following:\n",
    "1. Docker, Inc. the company\n",
    "2. Docker technology\n",
    "## Docker, Inc.\n",
    "1. is a San Francisco based technology company founded by French-born American developer and entrepreneur Solomon Hykes.\n",
    "2. Started out as a platform as a service to help manage these containers, they built an in-house tool \"Docker\"\n",
    "3. Docker ~ dock worker ~ loads and unloads cargo from ships\n",
    "4. Docker, Inc. refer to company\n",
    "5. Docker, Inc. focused on Docker desktop and Docker hub\n",
    "## The Docker Technology\n",
    "When most people talk about Docker, they'er refering to technology that runs containers. However, there are at least three things:\n",
    "1. The runtime\n",
    "2. The deamon - aka engine\n",
    "3. The orchestrator\n",
    "##### The runtime\n",
    "The runtime operates at the lowest level and is responsible for starting and stopping containers. Docker implements a tiered runtime architecture with high level and low-level runtimes that work together\n",
    "1. The low-level runtime is call runc and is the reference implementation of Open Containers Initiative - OCI runtime-spec. Its job is to interface with the underlying OS and start and stop containers. Every running container on a Docker node has a runc instance managing it.\n",
    "2. The higher-level runtime is called containerd. contenerd does a lot more than runc. It manages the entire lifecycle of a container, including pulling images, creating network interface,  and managing lower-level runc instance. containerd is pronounced \"container-dee\" and is a graduated CNCF project used by Docker and Kubernetes as a container runtime.\n",
    "\n",
    "A typical Docker installation has a single containerd process (docker-containerd) controlling the runc (docker-runc) instance associated with each running container\n",
    "\n",
    "##### The Docker daemon - dockerd\n",
    "sits above containerd and performs higher-level tasks such as: exposing the Docker remote API, managing images, managing volumes, managing networks, and more...\n",
    "1. Major job is to provide an easy-to-use standard interface that abstracts the lower levels.\n",
    "\n",
    "##### Orchestration\n",
    "1. support for managing clusters of nodes running Docker. These clusters are call Swarms, the native technology is called Docker Swarms.\n",
    "2. Docker Swarm is easy-to-use\n",
    "3. Kubernetes is chosen over Docker Swarm\n",
    "\n",
    "### The Open Container Initiative (OCI)\n",
    "The OCI is a governance concil responsible for standardizing the low-level fundamental components of container infrastructure. In particular, the OCI focus on images format and container runtime."
   ],
   "metadata": {
    "collapsed": false,
    "pycharm": {
     "name": "#%% md\n"
    }
   }
  },
  {
   "cell_type": "code",
   "execution_count": null,
   "outputs": [],
   "source": [],
   "metadata": {
    "collapsed": false,
    "pycharm": {
     "name": "#%%\n"
    }
   }
  }
 ],
 "metadata": {
  "kernelspec": {
   "display_name": "Python 3",
   "language": "python",
   "name": "python3"
  },
  "language_info": {
   "codemirror_mode": {
    "name": "ipython",
    "version": 2
   },
   "file_extension": ".py",
   "mimetype": "text/x-python",
   "name": "python",
   "nbconvert_exporter": "python",
   "pygments_lexer": "ipython2",
   "version": "2.7.6"
  }
 },
 "nbformat": 4,
 "nbformat_minor": 0
}